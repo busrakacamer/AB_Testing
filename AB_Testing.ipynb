{
 "cells": [
  {
   "cell_type": "markdown",
   "id": "20b42cd8",
   "metadata": {},
   "source": [
    "# A/B TESTING"
   ]
  },
  {
   "cell_type": "markdown",
   "id": "32636324",
   "metadata": {},
   "source": [
    "## Case:"
   ]
  },
  {
   "cell_type": "markdown",
   "id": "b585ab3e",
   "metadata": {},
   "source": [
    "Facebook recently introduced a new bidding type, 'average bidding', as an alternative to the existing bidding type called 'maximum bidding'. The final criterion of success was accepted as purchase. Statistical tests are needed."
   ]
  },
  {
   "cell_type": "markdown",
   "id": "837ee35e",
   "metadata": {},
   "source": [
    "### Libraries & Packages "
   ]
  },
  {
   "cell_type": "code",
   "execution_count": 1,
   "id": "848dd268",
   "metadata": {},
   "outputs": [],
   "source": [
    "import itertools\n",
    "import numpy as np\n",
    "import pandas as pd\n",
    "import matplotlib.pyplot as plt\n",
    "import seaborn as sns\n",
    "#pip install statsmodels\n",
    "import statsmodels.stats.api as sms\n",
    "from scipy.stats import ttest_1samp, shapiro, levene, ttest_ind, mannwhitneyu, \\\n",
    "    pearsonr, spearmanr, kendalltau, f_oneway, kruskal\n",
    "from statsmodels.stats.proportion import proportions_ztest\n",
    "\n",
    "pd.set_option('display.max_columns', None)\n",
    "pd.set_option('display.max_rows', 10)\n",
    "pd.set_option('display.width', 500)\n",
    "pd.set_option('display.float_format', lambda x: '%.5f' % x)"
   ]
  },
  {
   "cell_type": "markdown",
   "id": "41774e87",
   "metadata": {},
   "source": [
    "### Data "
   ]
  },
  {
   "cell_type": "code",
   "execution_count": 2,
   "id": "eb20ae1b",
   "metadata": {},
   "outputs": [],
   "source": [
    "df_kontrol = pd.read_excel(\"ab_testing.xlsx\", sheet_name= \"Control Group\") # new study\n",
    "df_test = pd.read_excel(\"ab_testing.xlsx\", sheet_name= \"Test Group\") # old study "
   ]
  },
  {
   "cell_type": "code",
   "execution_count": 3,
   "id": "6d90a620",
   "metadata": {},
   "outputs": [],
   "source": [
    "def check_df(dataframe, head=5):\n",
    "    print(\"##################### Shape #####################\")\n",
    "    print(dataframe.shape)\n",
    "    print(\"##################### Types #####################\")\n",
    "    print(dataframe.dtypes)\n",
    "    print(\"##################### Head #####################\")\n",
    "    print(dataframe.head(head))\n",
    "    print(\"##################### Tail #####################\")\n",
    "    print(dataframe.tail(head))\n",
    "    print(\"##################### NA #####################\")\n",
    "    print(dataframe.isnull().sum())\n",
    "    print(\"##################### Quantiles #####################\")\n",
    "    print(dataframe.describe([0, 0.05, 0.10, 0.25, 0.50, 0.75, 0.80, 0.95, 0.99, 1]).T)"
   ]
  },
  {
   "cell_type": "code",
   "execution_count": 4,
   "id": "35b745d4",
   "metadata": {},
   "outputs": [
    {
     "name": "stdout",
     "output_type": "stream",
     "text": [
      "##################### Shape #####################\n",
      "(40, 4)\n",
      "##################### Types #####################\n",
      "Impression    float64\n",
      "Click         float64\n",
      "Purchase      float64\n",
      "Earning       float64\n",
      "dtype: object\n",
      "##################### Head #####################\n",
      "    Impression      Click  Purchase    Earning\n",
      "0  82529.45927 6090.07732 665.21125 2311.27714\n",
      "1  98050.45193 3382.86179 315.08489 1742.80686\n",
      "2  82696.02355 4167.96575 458.08374 1797.82745\n",
      "3 109914.40040 4910.88224 487.09077 1696.22918\n",
      "4 108457.76263 5987.65581 441.03405 1543.72018\n",
      "##################### Tail #####################\n",
      "     Impression      Click  Purchase    Earning\n",
      "35 132064.21900 3747.15754 551.07241 2256.97559\n",
      "36  86409.94180 4608.25621 345.04603 1781.35769\n",
      "37 123678.93423 3649.07379 476.16813 2187.72122\n",
      "38 101997.49410 4736.35337 474.61354 2254.56383\n",
      "39 121085.88122 4285.17861 590.40602 1289.30895\n",
      "##################### NA #####################\n",
      "Impression    0\n",
      "Click         0\n",
      "Purchase      0\n",
      "Earning       0\n",
      "dtype: int64\n",
      "##################### Quantiles #####################\n",
      "              count         mean         std         min          0%          5%         10%         25%         50%          75%          80%          95%          99%         100%          max\n",
      "Impression 40.00000 101711.44907 20302.15786 45475.94296 45475.94296 79412.01792 81711.12032 85726.69035 99790.70108 115212.81654 121410.64830 132950.53245 143105.79110 147539.33633 147539.33633\n",
      "Click      40.00000   5100.65737  1329.98550  2189.75316  2189.75316  3367.48426  3582.08658  4124.30413  5001.22060   5923.80360   6008.14011   7374.36120   7761.79511   7959.12507   7959.12507\n",
      "Purchase   40.00000    550.89406   134.10820   267.02894   267.02894   328.66242   381.99270   470.09553   531.20631    637.95709    670.46811    748.27076    790.18779    801.79502    801.79502\n",
      "Earning    40.00000   1908.56830   302.91778  1253.98952  1253.98952  1329.57708  1569.05578  1685.84720  1975.16052   2119.80278   2175.70720   2318.52850   2481.30874   2497.29522   2497.29522\n"
     ]
    }
   ],
   "source": [
    "check_df(df_kontrol) "
   ]
  },
  {
   "cell_type": "code",
   "execution_count": 5,
   "id": "329da7a3",
   "metadata": {},
   "outputs": [
    {
     "name": "stdout",
     "output_type": "stream",
     "text": [
      "##################### Shape #####################\n",
      "(40, 4)\n",
      "##################### Types #####################\n",
      "Impression    float64\n",
      "Click         float64\n",
      "Purchase      float64\n",
      "Earning       float64\n",
      "dtype: object\n",
      "##################### Head #####################\n",
      "    Impression      Click  Purchase    Earning\n",
      "0 120103.50380 3216.54796 702.16035 1939.61124\n",
      "1 134775.94336 3635.08242 834.05429 2929.40582\n",
      "2 107806.62079 3057.14356 422.93426 2526.24488\n",
      "3 116445.27553 4650.47391 429.03353 2281.42857\n",
      "4 145082.51684 5201.38772 749.86044 2781.69752\n",
      "##################### Tail #####################\n",
      "     Impression      Click  Purchase    Earning\n",
      "35  79234.91193 6002.21358 382.04712 2277.86398\n",
      "36 130702.23941 3626.32007 449.82459 2530.84133\n",
      "37 116481.87337 4702.78247 472.45373 2597.91763\n",
      "38  79033.83492 4495.42818 425.35910 2595.85788\n",
      "39 102257.45409 4800.06832 521.31073 2967.51839\n",
      "##################### NA #####################\n",
      "Impression    0\n",
      "Click         0\n",
      "Purchase      0\n",
      "Earning       0\n",
      "dtype: int64\n",
      "##################### Quantiles #####################\n",
      "              count         mean         std         min          0%          5%         10%          25%          50%          75%          80%          95%          99%         100%          max\n",
      "Impression 40.00000 120512.41176 18807.44871 79033.83492 79033.83492 83150.50378 97389.76671 112691.97077 119291.30077 132050.57893 135265.23098 153178.69106 158245.26380 158605.92048 158605.92048\n",
      "Click      40.00000   3967.54976   923.09507  1836.62986  1836.62986  2600.36102  2917.26531   3376.81902   3931.35980   4660.49791   4706.46354   5271.18691   6012.87730   6019.69508   6019.69508\n",
      "Purchase   40.00000    582.10610   161.15251   311.62952   311.62952   356.69540   381.05498    444.62683    551.35573    699.86236    711.42760    854.20895    876.57610    889.91046    889.91046\n",
      "Earning    40.00000   2514.89073   282.73085  1939.61124  1939.61124  2080.97621  2186.39226   2280.53743   2544.66611   2761.54540   2782.58722   2931.31145   3091.94089   3171.48971   3171.48971\n"
     ]
    }
   ],
   "source": [
    "check_df(df_test) "
   ]
  },
  {
   "cell_type": "markdown",
   "id": "24dbe6f9",
   "metadata": {},
   "source": [
    "### Average of 2 groups"
   ]
  },
  {
   "cell_type": "code",
   "execution_count": 6,
   "id": "a9fd9ddd",
   "metadata": {},
   "outputs": [
    {
     "data": {
      "text/plain": [
       "550.8940587702316"
      ]
     },
     "execution_count": 6,
     "metadata": {},
     "output_type": "execute_result"
    }
   ],
   "source": [
    "df_kontrol[\"Purchase\"].mean() "
   ]
  },
  {
   "cell_type": "code",
   "execution_count": 7,
   "id": "df7391eb",
   "metadata": {},
   "outputs": [
    {
     "data": {
      "text/plain": [
       "582.1060966484675"
      ]
     },
     "execution_count": 7,
     "metadata": {},
     "output_type": "execute_result"
    }
   ],
   "source": [
    "df_test[\"Purchase\"].mean() "
   ]
  },
  {
   "cell_type": "markdown",
   "id": "6269ec0f",
   "metadata": {},
   "source": [
    "### Concat two data "
   ]
  },
  {
   "cell_type": "code",
   "execution_count": 8,
   "id": "c1063970",
   "metadata": {},
   "outputs": [],
   "source": [
    "df_kontrol[\"Project_Name\"] = \"Maximum Bidding\"\n",
    "df_test[\"Project_Name\"] = \"Average Bidding\"\n",
    "\n",
    "df = pd.concat([df_kontrol, df_test])"
   ]
  },
  {
   "cell_type": "code",
   "execution_count": 9,
   "id": "e0ad848c",
   "metadata": {},
   "outputs": [
    {
     "data": {
      "text/html": [
       "<div>\n",
       "<style scoped>\n",
       "    .dataframe tbody tr th:only-of-type {\n",
       "        vertical-align: middle;\n",
       "    }\n",
       "\n",
       "    .dataframe tbody tr th {\n",
       "        vertical-align: top;\n",
       "    }\n",
       "\n",
       "    .dataframe thead th {\n",
       "        text-align: right;\n",
       "    }\n",
       "</style>\n",
       "<table border=\"1\" class=\"dataframe\">\n",
       "  <thead>\n",
       "    <tr style=\"text-align: right;\">\n",
       "      <th></th>\n",
       "      <th>Impression</th>\n",
       "      <th>Click</th>\n",
       "      <th>Purchase</th>\n",
       "      <th>Earning</th>\n",
       "      <th>Project_Name</th>\n",
       "    </tr>\n",
       "  </thead>\n",
       "  <tbody>\n",
       "    <tr>\n",
       "      <th>0</th>\n",
       "      <td>82529.45927</td>\n",
       "      <td>6090.07732</td>\n",
       "      <td>665.21125</td>\n",
       "      <td>2311.27714</td>\n",
       "      <td>Maximum Bidding</td>\n",
       "    </tr>\n",
       "    <tr>\n",
       "      <th>1</th>\n",
       "      <td>98050.45193</td>\n",
       "      <td>3382.86179</td>\n",
       "      <td>315.08489</td>\n",
       "      <td>1742.80686</td>\n",
       "      <td>Maximum Bidding</td>\n",
       "    </tr>\n",
       "    <tr>\n",
       "      <th>2</th>\n",
       "      <td>82696.02355</td>\n",
       "      <td>4167.96575</td>\n",
       "      <td>458.08374</td>\n",
       "      <td>1797.82745</td>\n",
       "      <td>Maximum Bidding</td>\n",
       "    </tr>\n",
       "    <tr>\n",
       "      <th>3</th>\n",
       "      <td>109914.40040</td>\n",
       "      <td>4910.88224</td>\n",
       "      <td>487.09077</td>\n",
       "      <td>1696.22918</td>\n",
       "      <td>Maximum Bidding</td>\n",
       "    </tr>\n",
       "    <tr>\n",
       "      <th>4</th>\n",
       "      <td>108457.76263</td>\n",
       "      <td>5987.65581</td>\n",
       "      <td>441.03405</td>\n",
       "      <td>1543.72018</td>\n",
       "      <td>Maximum Bidding</td>\n",
       "    </tr>\n",
       "  </tbody>\n",
       "</table>\n",
       "</div>"
      ],
      "text/plain": [
       "    Impression      Click  Purchase    Earning     Project_Name\n",
       "0  82529.45927 6090.07732 665.21125 2311.27714  Maximum Bidding\n",
       "1  98050.45193 3382.86179 315.08489 1742.80686  Maximum Bidding\n",
       "2  82696.02355 4167.96575 458.08374 1797.82745  Maximum Bidding\n",
       "3 109914.40040 4910.88224 487.09077 1696.22918  Maximum Bidding\n",
       "4 108457.76263 5987.65581 441.03405 1543.72018  Maximum Bidding"
      ]
     },
     "execution_count": 9,
     "metadata": {},
     "output_type": "execute_result"
    }
   ],
   "source": [
    "df.head()"
   ]
  },
  {
   "cell_type": "code",
   "execution_count": 10,
   "id": "4218294f",
   "metadata": {},
   "outputs": [
    {
     "data": {
      "text/plain": [
       "(80, 5)"
      ]
     },
     "execution_count": 10,
     "metadata": {},
     "output_type": "execute_result"
    }
   ],
   "source": [
    "df.shape"
   ]
  },
  {
   "cell_type": "markdown",
   "id": "5edc3a03",
   "metadata": {},
   "source": [
    "### A/B Testing"
   ]
  },
  {
   "cell_type": "markdown",
   "id": "d22292f4",
   "metadata": {},
   "source": [
    "#### Hypothesis"
   ]
  },
  {
   "cell_type": "markdown",
   "id": "59744f5c",
   "metadata": {},
   "source": [
    "H0 : μ1 = μ2   # There is no statistically significant difference between the average of purchases for the two projects.\n",
    "\n",
    "H1 : μ1 != μ2  # There is statistically significant difference between the average of purchases for the two projects."
   ]
  },
  {
   "cell_type": "code",
   "execution_count": 11,
   "id": "d54588fa",
   "metadata": {},
   "outputs": [
    {
     "data": {
      "text/html": [
       "<div>\n",
       "<style scoped>\n",
       "    .dataframe tbody tr th:only-of-type {\n",
       "        vertical-align: middle;\n",
       "    }\n",
       "\n",
       "    .dataframe tbody tr th {\n",
       "        vertical-align: top;\n",
       "    }\n",
       "\n",
       "    .dataframe thead th {\n",
       "        text-align: right;\n",
       "    }\n",
       "</style>\n",
       "<table border=\"1\" class=\"dataframe\">\n",
       "  <thead>\n",
       "    <tr style=\"text-align: right;\">\n",
       "      <th></th>\n",
       "      <th>Purchase</th>\n",
       "    </tr>\n",
       "    <tr>\n",
       "      <th>Project_Name</th>\n",
       "      <th></th>\n",
       "    </tr>\n",
       "  </thead>\n",
       "  <tbody>\n",
       "    <tr>\n",
       "      <th>Average Bidding</th>\n",
       "      <td>582.10610</td>\n",
       "    </tr>\n",
       "    <tr>\n",
       "      <th>Maximum Bidding</th>\n",
       "      <td>550.89406</td>\n",
       "    </tr>\n",
       "  </tbody>\n",
       "</table>\n",
       "</div>"
      ],
      "text/plain": [
       "                 Purchase\n",
       "Project_Name             \n",
       "Average Bidding 582.10610\n",
       "Maximum Bidding 550.89406"
      ]
     },
     "execution_count": 11,
     "metadata": {},
     "output_type": "execute_result"
    }
   ],
   "source": [
    "df.groupby(\"Project_Name\").agg({\"Purchase\": \"mean\"})"
   ]
  },
  {
   "cell_type": "markdown",
   "id": "3736c0f4",
   "metadata": {},
   "source": [
    "#### Assumptions"
   ]
  },
  {
   "cell_type": "markdown",
   "id": "fd00762d",
   "metadata": {},
   "source": [
    "##### 1. Normal Distribution "
   ]
  },
  {
   "cell_type": "markdown",
   "id": "3051c037",
   "metadata": {},
   "source": [
    "H0 :  The assumption of normal distribution is provided.\n",
    "\n",
    "H1 :  The assumption of normal distribution is not provided."
   ]
  },
  {
   "cell_type": "code",
   "execution_count": 12,
   "id": "5c15949f",
   "metadata": {},
   "outputs": [
    {
     "name": "stdout",
     "output_type": "stream",
     "text": [
      "Test Stat = 0.9773, p-value = 0.5891\n"
     ]
    }
   ],
   "source": [
    "test_stat, pvalue = shapiro(df.loc[df[\"Project_Name\"] == \"Maximum Bidding\", \"Purchase\"])\n",
    "print('Test Stat = %.4f, p-value = %.4f' % (test_stat, pvalue))"
   ]
  },
  {
   "cell_type": "code",
   "execution_count": 13,
   "id": "4187fc99",
   "metadata": {},
   "outputs": [
    {
     "name": "stdout",
     "output_type": "stream",
     "text": [
      "Test Stat = 0.9589, p-value = 0.1541\n"
     ]
    }
   ],
   "source": [
    "test_stat, pvalue = shapiro(df.loc[df[\"Project_Name\"] == \"Average Bidding\", \"Purchase\"])\n",
    "print('Test Stat = %.4f, p-value = %.4f' % (test_stat, pvalue))"
   ]
  },
  {
   "cell_type": "code",
   "execution_count": 14,
   "id": "5f073094",
   "metadata": {},
   "outputs": [],
   "source": [
    "# p value > 0.05 for both projects. So, H0 cannot be rejected. Normal distribution is provided."
   ]
  },
  {
   "cell_type": "markdown",
   "id": "7745405f",
   "metadata": {},
   "source": [
    "##### 2. Homogeneity of variances"
   ]
  },
  {
   "cell_type": "markdown",
   "id": "530c92ee",
   "metadata": {},
   "source": [
    "H0 :  The assumption of homogeneity of variances is provided.\n",
    "\n",
    "H1 :  The assumption of homogeneity of variances is not provided."
   ]
  },
  {
   "cell_type": "code",
   "execution_count": 15,
   "id": "aeca74e1",
   "metadata": {},
   "outputs": [
    {
     "name": "stdout",
     "output_type": "stream",
     "text": [
      "Test Stat = 2.6393, p-value = 0.1083\n"
     ]
    }
   ],
   "source": [
    "test_stat, pvalue = levene(df.loc[df[\"Project_Name\"] == \"Maximum Bidding\", \"Purchase\"],\n",
    "                           df.loc[df[\"Project_Name\"] == \"Average Bidding\", \"Purchase\"])\n",
    "\n",
    "print('Test Stat = %.4f, p-value = %.4f' % (test_stat, pvalue))"
   ]
  },
  {
   "cell_type": "code",
   "execution_count": 16,
   "id": "b1eb9435",
   "metadata": {},
   "outputs": [],
   "source": [
    "# p value > 0.05. So, H0 cannot be rejected. Homogeneity of variances is provided."
   ]
  },
  {
   "cell_type": "markdown",
   "id": "783e62f5",
   "metadata": {},
   "source": [
    "#### Final Test"
   ]
  },
  {
   "cell_type": "markdown",
   "id": "a24aee4a",
   "metadata": {},
   "source": [
    "Since the normal distribution and homogeneity of variance are ensured, an independent two-sample t-test (parametric test) should be applied."
   ]
  },
  {
   "cell_type": "code",
   "execution_count": 17,
   "id": "cd69c33a",
   "metadata": {},
   "outputs": [
    {
     "name": "stdout",
     "output_type": "stream",
     "text": [
      "Test Stat = -0.9416, p-value = 0.3493\n"
     ]
    }
   ],
   "source": [
    "test_stat, pvalue = ttest_ind(df.loc[df[\"Project_Name\"] == \"Maximum Bidding\", \"Purchase\"],\n",
    "                              df.loc[df[\"Project_Name\"] == \"Average Bidding\", \"Purchase\"],\n",
    "                              equal_var=True)\n",
    "\n",
    "print('Test Stat = %.4f, p-value = %.4f' % (test_stat, pvalue))"
   ]
  },
  {
   "cell_type": "code",
   "execution_count": 18,
   "id": "6d417ef5",
   "metadata": {},
   "outputs": [],
   "source": [
    "# H0 cannot be rejected because p_value > 0.05.\n",
    "# Therefore, there is no difference in the average of purchases between the two projects.\n",
    "# Although there seems to be a difference normally, it has been proven that there is no statistical difference between the means."
   ]
  }
 ],
 "metadata": {
  "kernelspec": {
   "display_name": "Python 3 (ipykernel)",
   "language": "python",
   "name": "python3"
  },
  "language_info": {
   "codemirror_mode": {
    "name": "ipython",
    "version": 3
   },
   "file_extension": ".py",
   "mimetype": "text/x-python",
   "name": "python",
   "nbconvert_exporter": "python",
   "pygments_lexer": "ipython3",
   "version": "3.9.13"
  }
 },
 "nbformat": 4,
 "nbformat_minor": 5
}
